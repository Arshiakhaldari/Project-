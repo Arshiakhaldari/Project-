{
 "cells": [
  {
   "cell_type": "markdown",
   "id": "124cee5f-cea3-43e4-841e-5e66d5f3c88e",
   "metadata": {},
   "source": [
    "##### "
   ]
  },
  {
   "cell_type": "markdown",
   "id": "ff1b906f-22f9-471a-8750-64bd1951bcba",
   "metadata": {},
   "source": []
  },
  {
   "cell_type": "markdown",
   "id": "8674160c-70da-4482-a819-0ed24f45c6f4",
   "metadata": {},
   "source": []
  },
  {
   "cell_type": "markdown",
   "id": "5376d7e5-f323-4f94-ab80-fd658ac5b248",
   "metadata": {},
   "source": [
    "\n",
    "import random \n",
    "\n",
    "guesess=[]\n",
    "\n",
    "my=random.randint(1,80)\n",
    "\n",
    "player=int(input(\"enter mnumber betwen 1 to 80\"))\n",
    "guesess.append(player)\n",
    "\n",
    "while player!=my:\n",
    "    if player>my:\n",
    "        print(\"number is high\")\n",
    "    else:\n",
    "        print(\"number is low\")\n",
    "    player=int(input(\"enter mnumber betwen 1 to 80\"))\n",
    "    guesess.append(player)\n",
    "else:\n",
    "    print(\"good job\")\n",
    "    print(\"these was your guesess:\")\n",
    "    print(guesess)"
   ]
  },
  {
   "cell_type": "markdown",
   "id": "4c0e4216-f2a3-4545-b30e-400c3a030386",
   "metadata": {},
   "source": []
  },
  {
   "cell_type": "markdown",
   "id": "8d082dc4-dcfb-4e9c-9802-090575cb8208",
   "metadata": {},
   "source": [
    "\n"
   ]
  },
  {
   "cell_type": "markdown",
   "id": "4ceab2fd-70cb-4604-b423-368c51d4ad80",
   "metadata": {},
   "source": [
    "\n",
    "\n"
   ]
  },
  {
   "cell_type": "code",
   "execution_count": null,
   "id": "0115d2f0-dff3-441f-9d12-75cde8657254",
   "metadata": {},
   "outputs": [],
   "source": []
  },
  {
   "cell_type": "code",
   "execution_count": null,
   "id": "6316186b-0f0e-4d20-84ef-26a110f4b025",
   "metadata": {},
   "outputs": [],
   "source": []
  },
  {
   "cell_type": "code",
   "execution_count": null,
   "id": "7fbd8782-ee2e-487a-9880-cf082e1cf598",
   "metadata": {},
   "outputs": [],
   "source": []
  }
 ],
 "metadata": {
  "kernelspec": {
   "display_name": "Python 3 (ipykernel)",
   "language": "python",
   "name": "python3"
  },
  "language_info": {
   "codemirror_mode": {
    "name": "ipython",
    "version": 3
   },
   "file_extension": ".py",
   "mimetype": "text/x-python",
   "name": "python",
   "nbconvert_exporter": "python",
   "pygments_lexer": "ipython3",
   "version": "3.11.6"
  }
 },
 "nbformat": 4,
 "nbformat_minor": 5
}
